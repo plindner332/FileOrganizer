{
 "cells": [
  {
   "cell_type": "code",
   "execution_count": 1,
   "metadata": {},
   "outputs": [],
   "source": [
    "import pandas as pd\n",
    "import os\n",
    "import time"
   ]
  },
  {
   "cell_type": "markdown",
   "metadata": {},
   "source": [
    "Script a funciton where you give the path and it gives you a CSV file of a dataframe, consistens of File, FileType, File location, Creation Date, Modification Date."
   ]
  },
  {
   "cell_type": "code",
   "execution_count": 2,
   "metadata": {},
   "outputs": [],
   "source": [
    "path = r\"C:\\Users\\peter\\Dropbox\\photos\" \n",
    "\n",
    "for root, dirs, files in os.walk(path):\n",
    "    paths = [os.path.join(root, f) for f in files]\n",
    "    folders = [p.rsplit('\\\\',1)[0] for p in paths]\n",
    "    filetypes = [f.rsplit('.',1)[-1].lower() for f in files]\n",
    "    created = [os.path.getctime(p) for p in paths]\n",
    "    created = [time.ctime(c) for c in created]\n",
    "    modified= [os.path.getmtime(p) for p in paths]\n",
    "    modified = [time.ctime(m) for m in modified]\n",
    "    \n",
    "    df = pd.DataFrame({'File': files,\n",
    "                        'File Type': filetypes,\n",
    "                        'File Location': folders,\n",
    "                        'Creation Date': created,\n",
    "                        'Modification Date': modified})\n",
    "df.to_csv('out.csv', index=False)"
   ]
  },
  {
   "cell_type": "code",
   "execution_count": 3,
   "metadata": {},
   "outputs": [
    {
     "data": {
      "text/html": [
       "<div>\n",
       "<style scoped>\n",
       "    .dataframe tbody tr th:only-of-type {\n",
       "        vertical-align: middle;\n",
       "    }\n",
       "\n",
       "    .dataframe tbody tr th {\n",
       "        vertical-align: top;\n",
       "    }\n",
       "\n",
       "    .dataframe thead th {\n",
       "        text-align: right;\n",
       "    }\n",
       "</style>\n",
       "<table border=\"1\" class=\"dataframe\">\n",
       "  <thead>\n",
       "    <tr style=\"text-align: right;\">\n",
       "      <th></th>\n",
       "      <th>File</th>\n",
       "      <th>File Type</th>\n",
       "      <th>File Location</th>\n",
       "      <th>Creation Date</th>\n",
       "      <th>Modification Date</th>\n",
       "    </tr>\n",
       "  </thead>\n",
       "  <tbody>\n",
       "    <tr>\n",
       "      <th>0</th>\n",
       "      <td>Christmas.jpg</td>\n",
       "      <td>jpg</td>\n",
       "      <td>C:\\Users\\peter\\Dropbox\\photos</td>\n",
       "      <td>Sat Dec 14 18:24:51 2019</td>\n",
       "      <td>Sat Dec 14 18:24:52 2019</td>\n",
       "    </tr>\n",
       "    <tr>\n",
       "      <th>1</th>\n",
       "      <td>Christmas_2019.jpg</td>\n",
       "      <td>jpg</td>\n",
       "      <td>C:\\Users\\peter\\Dropbox\\photos</td>\n",
       "      <td>Sat Dec 14 18:12:58 2019</td>\n",
       "      <td>Sat Dec 14 18:13:00 2019</td>\n",
       "    </tr>\n",
       "    <tr>\n",
       "      <th>2</th>\n",
       "      <td>Christmas_2019_02.jpg</td>\n",
       "      <td>jpg</td>\n",
       "      <td>C:\\Users\\peter\\Dropbox\\photos</td>\n",
       "      <td>Sat Dec 14 18:13:32 2019</td>\n",
       "      <td>Sat Dec 14 18:13:33 2019</td>\n",
       "    </tr>\n",
       "    <tr>\n",
       "      <th>3</th>\n",
       "      <td>Christmas_2019_03.jpg</td>\n",
       "      <td>jpg</td>\n",
       "      <td>C:\\Users\\peter\\Dropbox\\photos</td>\n",
       "      <td>Sat Dec 14 18:14:41 2019</td>\n",
       "      <td>Sat Dec 14 18:14:41 2019</td>\n",
       "    </tr>\n",
       "    <tr>\n",
       "      <th>4</th>\n",
       "      <td>Christmas_2019_04.jpg</td>\n",
       "      <td>jpg</td>\n",
       "      <td>C:\\Users\\peter\\Dropbox\\photos</td>\n",
       "      <td>Sat Dec 14 18:15:07 2019</td>\n",
       "      <td>Sat Dec 14 18:15:07 2019</td>\n",
       "    </tr>\n",
       "  </tbody>\n",
       "</table>\n",
       "</div>"
      ],
      "text/plain": [
       "                    File File Type                  File Location  \\\n",
       "0          Christmas.jpg       jpg  C:\\Users\\peter\\Dropbox\\photos   \n",
       "1     Christmas_2019.jpg       jpg  C:\\Users\\peter\\Dropbox\\photos   \n",
       "2  Christmas_2019_02.jpg       jpg  C:\\Users\\peter\\Dropbox\\photos   \n",
       "3  Christmas_2019_03.jpg       jpg  C:\\Users\\peter\\Dropbox\\photos   \n",
       "4  Christmas_2019_04.jpg       jpg  C:\\Users\\peter\\Dropbox\\photos   \n",
       "\n",
       "              Creation Date         Modification Date  \n",
       "0  Sat Dec 14 18:24:51 2019  Sat Dec 14 18:24:52 2019  \n",
       "1  Sat Dec 14 18:12:58 2019  Sat Dec 14 18:13:00 2019  \n",
       "2  Sat Dec 14 18:13:32 2019  Sat Dec 14 18:13:33 2019  \n",
       "3  Sat Dec 14 18:14:41 2019  Sat Dec 14 18:14:41 2019  \n",
       "4  Sat Dec 14 18:15:07 2019  Sat Dec 14 18:15:07 2019  "
      ]
     },
     "execution_count": 3,
     "metadata": {},
     "output_type": "execute_result"
    }
   ],
   "source": [
    "df.head()"
   ]
  },
  {
   "cell_type": "code",
   "execution_count": null,
   "metadata": {},
   "outputs": [],
   "source": []
  }
 ],
 "metadata": {
  "kernelspec": {
   "display_name": "Python 3",
   "language": "python",
   "name": "python3"
  },
  "language_info": {
   "codemirror_mode": {
    "name": "ipython",
    "version": 3
   },
   "file_extension": ".py",
   "mimetype": "text/x-python",
   "name": "python",
   "nbconvert_exporter": "python",
   "pygments_lexer": "ipython3",
   "version": "3.7.4"
  }
 },
 "nbformat": 4,
 "nbformat_minor": 2
}
